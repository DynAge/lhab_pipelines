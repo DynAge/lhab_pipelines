{
 "cells": [
  {
   "cell_type": "code",
   "execution_count": 1,
   "metadata": {
    "collapsed": true
   },
   "outputs": [],
   "source": [
    "PROJECT_ROOT = '/Volumes/lhab_raw/Nifti/v1.0.0/LHAB_v1.0.0/sourcedata'"
   ]
  },
  {
   "cell_type": "code",
   "execution_count": 2,
   "metadata": {
    "collapsed": true
   },
   "outputs": [],
   "source": [
    "from bids.grabbids import BIDSLayout\n",
    "layout = BIDSLayout(PROJECT_ROOT)"
   ]
  },
  {
   "cell_type": "code",
   "execution_count": null,
   "metadata": {
    "collapsed": false
   },
   "outputs": [],
   "source": []
  },
  {
   "cell_type": "code",
   "execution_count": 7,
   "metadata": {
    "collapsed": false
   },
   "outputs": [],
   "source": [
    "df = layout.as_data_frame()\n",
    "\n",
    "# remove study level info\n",
    "df.dropna(subset=[\"subject\"], inplace=True)"
   ]
  },
  {
   "cell_type": "code",
   "execution_count": 8,
   "metadata": {
    "collapsed": false
   },
   "outputs": [
    {
     "data": {
      "text/html": [
       "<div>\n",
       "<table border=\"1\" class=\"dataframe\">\n",
       "  <thead>\n",
       "    <tr style=\"text-align: right;\">\n",
       "      <th></th>\n",
       "      <th>path</th>\n",
       "      <th>acquisition</th>\n",
       "      <th>bval</th>\n",
       "      <th>bvec</th>\n",
       "      <th>modality</th>\n",
       "      <th>run</th>\n",
       "      <th>scans</th>\n",
       "      <th>session</th>\n",
       "      <th>subject</th>\n",
       "      <th>task</th>\n",
       "      <th>type</th>\n",
       "    </tr>\n",
       "  </thead>\n",
       "  <tbody>\n",
       "    <tr>\n",
       "      <th>0</th>\n",
       "      <td>/Volumes/lhab_raw/Nifti/v1.0.0/LHAB_v1.0.0/sou...</td>\n",
       "      <td>ap</td>\n",
       "      <td>NaN</td>\n",
       "      <td>NaN</td>\n",
       "      <td>fmap</td>\n",
       "      <td>1</td>\n",
       "      <td>NaN</td>\n",
       "      <td>tp3</td>\n",
       "      <td>lhabX0146</td>\n",
       "      <td>NaN</td>\n",
       "      <td>dwi</td>\n",
       "    </tr>\n",
       "    <tr>\n",
       "      <th>1</th>\n",
       "      <td>/Volumes/lhab_raw/Nifti/v1.0.0/LHAB_v1.0.0/sou...</td>\n",
       "      <td>NaN</td>\n",
       "      <td>NaN</td>\n",
       "      <td>NaN</td>\n",
       "      <td>NaN</td>\n",
       "      <td>NaN</td>\n",
       "      <td>/Volumes/lhab_raw/Nifti/v1.0.0/LHAB_v1.0.0/sou...</td>\n",
       "      <td>NaN</td>\n",
       "      <td>lhabX0005</td>\n",
       "      <td>NaN</td>\n",
       "      <td>scans</td>\n",
       "    </tr>\n",
       "    <tr>\n",
       "      <th>2</th>\n",
       "      <td>/Volumes/lhab_raw/Nifti/v1.0.0/LHAB_v1.0.0/sou...</td>\n",
       "      <td>2D</td>\n",
       "      <td>NaN</td>\n",
       "      <td>NaN</td>\n",
       "      <td>anat</td>\n",
       "      <td>1</td>\n",
       "      <td>NaN</td>\n",
       "      <td>tp3</td>\n",
       "      <td>lhabX0013</td>\n",
       "      <td>NaN</td>\n",
       "      <td>FLAIR</td>\n",
       "    </tr>\n",
       "    <tr>\n",
       "      <th>3</th>\n",
       "      <td>/Volumes/lhab_raw/Nifti/v1.0.0/LHAB_v1.0.0/sou...</td>\n",
       "      <td>pa</td>\n",
       "      <td>NaN</td>\n",
       "      <td>NaN</td>\n",
       "      <td>fmap</td>\n",
       "      <td>1</td>\n",
       "      <td>NaN</td>\n",
       "      <td>tp5</td>\n",
       "      <td>lhabX0105</td>\n",
       "      <td>NaN</td>\n",
       "      <td>bold</td>\n",
       "    </tr>\n",
       "    <tr>\n",
       "      <th>4</th>\n",
       "      <td>/Volumes/lhab_raw/Nifti/v1.0.0/LHAB_v1.0.0/sou...</td>\n",
       "      <td>NaN</td>\n",
       "      <td>NaN</td>\n",
       "      <td>NaN</td>\n",
       "      <td>func</td>\n",
       "      <td>1</td>\n",
       "      <td>NaN</td>\n",
       "      <td>tp5</td>\n",
       "      <td>lhabX0072</td>\n",
       "      <td>rest</td>\n",
       "      <td>bold</td>\n",
       "    </tr>\n",
       "  </tbody>\n",
       "</table>\n",
       "</div>"
      ],
      "text/plain": [
       "                                                path acquisition bval bvec  \\\n",
       "0  /Volumes/lhab_raw/Nifti/v1.0.0/LHAB_v1.0.0/sou...          ap  NaN  NaN   \n",
       "1  /Volumes/lhab_raw/Nifti/v1.0.0/LHAB_v1.0.0/sou...         NaN  NaN  NaN   \n",
       "2  /Volumes/lhab_raw/Nifti/v1.0.0/LHAB_v1.0.0/sou...          2D  NaN  NaN   \n",
       "3  /Volumes/lhab_raw/Nifti/v1.0.0/LHAB_v1.0.0/sou...          pa  NaN  NaN   \n",
       "4  /Volumes/lhab_raw/Nifti/v1.0.0/LHAB_v1.0.0/sou...         NaN  NaN  NaN   \n",
       "\n",
       "  modality  run                                              scans session  \\\n",
       "0     fmap    1                                                NaN     tp3   \n",
       "1      NaN  NaN  /Volumes/lhab_raw/Nifti/v1.0.0/LHAB_v1.0.0/sou...     NaN   \n",
       "2     anat    1                                                NaN     tp3   \n",
       "3     fmap    1                                                NaN     tp5   \n",
       "4     func    1                                                NaN     tp5   \n",
       "\n",
       "     subject  task   type  \n",
       "0  lhabX0146   NaN    dwi  \n",
       "1  lhabX0005   NaN  scans  \n",
       "2  lhabX0013   NaN  FLAIR  \n",
       "3  lhabX0105   NaN   bold  \n",
       "4  lhabX0072  rest   bold  "
      ]
     },
     "execution_count": 8,
     "metadata": {},
     "output_type": "execute_result"
    }
   ],
   "source": [
    "df.head()"
   ]
  },
  {
   "cell_type": "code",
   "execution_count": 4,
   "metadata": {
    "collapsed": false
   },
   "outputs": [],
   "source": [
    "scans = df[df.scans.notnull()]\n",
    "\n",
    "# data will contain all entries with MRI data\n",
    "mri_data = df[~df.scans.notnull()]"
   ]
  },
  {
   "cell_type": "code",
   "execution_count": 5,
   "metadata": {
    "collapsed": false
   },
   "outputs": [
    {
     "data": {
      "text/html": [
       "<div>\n",
       "<table border=\"1\" class=\"dataframe\">\n",
       "  <thead>\n",
       "    <tr style=\"text-align: right;\">\n",
       "      <th></th>\n",
       "      <th>path</th>\n",
       "      <th>acquisition</th>\n",
       "      <th>bval</th>\n",
       "      <th>bvec</th>\n",
       "      <th>modality</th>\n",
       "      <th>run</th>\n",
       "      <th>scans</th>\n",
       "      <th>session</th>\n",
       "      <th>subject</th>\n",
       "      <th>task</th>\n",
       "      <th>type</th>\n",
       "    </tr>\n",
       "  </thead>\n",
       "  <tbody>\n",
       "    <tr>\n",
       "      <th>0</th>\n",
       "      <td>/Volumes/lhab_raw/Nifti/v1.0.0/LHAB_v1.0.0/sou...</td>\n",
       "      <td>ap</td>\n",
       "      <td>NaN</td>\n",
       "      <td>NaN</td>\n",
       "      <td>fmap</td>\n",
       "      <td>1</td>\n",
       "      <td>NaN</td>\n",
       "      <td>tp3</td>\n",
       "      <td>lhabX0146</td>\n",
       "      <td>NaN</td>\n",
       "      <td>dwi</td>\n",
       "    </tr>\n",
       "    <tr>\n",
       "      <th>2</th>\n",
       "      <td>/Volumes/lhab_raw/Nifti/v1.0.0/LHAB_v1.0.0/sou...</td>\n",
       "      <td>2D</td>\n",
       "      <td>NaN</td>\n",
       "      <td>NaN</td>\n",
       "      <td>anat</td>\n",
       "      <td>1</td>\n",
       "      <td>NaN</td>\n",
       "      <td>tp3</td>\n",
       "      <td>lhabX0013</td>\n",
       "      <td>NaN</td>\n",
       "      <td>FLAIR</td>\n",
       "    </tr>\n",
       "    <tr>\n",
       "      <th>3</th>\n",
       "      <td>/Volumes/lhab_raw/Nifti/v1.0.0/LHAB_v1.0.0/sou...</td>\n",
       "      <td>pa</td>\n",
       "      <td>NaN</td>\n",
       "      <td>NaN</td>\n",
       "      <td>fmap</td>\n",
       "      <td>1</td>\n",
       "      <td>NaN</td>\n",
       "      <td>tp5</td>\n",
       "      <td>lhabX0105</td>\n",
       "      <td>NaN</td>\n",
       "      <td>bold</td>\n",
       "    </tr>\n",
       "    <tr>\n",
       "      <th>4</th>\n",
       "      <td>/Volumes/lhab_raw/Nifti/v1.0.0/LHAB_v1.0.0/sou...</td>\n",
       "      <td>NaN</td>\n",
       "      <td>NaN</td>\n",
       "      <td>NaN</td>\n",
       "      <td>func</td>\n",
       "      <td>1</td>\n",
       "      <td>NaN</td>\n",
       "      <td>tp5</td>\n",
       "      <td>lhabX0072</td>\n",
       "      <td>rest</td>\n",
       "      <td>bold</td>\n",
       "    </tr>\n",
       "    <tr>\n",
       "      <th>5</th>\n",
       "      <td>/Volumes/lhab_raw/Nifti/v1.0.0/LHAB_v1.0.0/sou...</td>\n",
       "      <td>2D</td>\n",
       "      <td>NaN</td>\n",
       "      <td>NaN</td>\n",
       "      <td>anat</td>\n",
       "      <td>1</td>\n",
       "      <td>NaN</td>\n",
       "      <td>tp5</td>\n",
       "      <td>lhabX0117</td>\n",
       "      <td>NaN</td>\n",
       "      <td>FLAIR</td>\n",
       "    </tr>\n",
       "  </tbody>\n",
       "</table>\n",
       "</div>"
      ],
      "text/plain": [
       "                                                path acquisition bval bvec  \\\n",
       "0  /Volumes/lhab_raw/Nifti/v1.0.0/LHAB_v1.0.0/sou...          ap  NaN  NaN   \n",
       "2  /Volumes/lhab_raw/Nifti/v1.0.0/LHAB_v1.0.0/sou...          2D  NaN  NaN   \n",
       "3  /Volumes/lhab_raw/Nifti/v1.0.0/LHAB_v1.0.0/sou...          pa  NaN  NaN   \n",
       "4  /Volumes/lhab_raw/Nifti/v1.0.0/LHAB_v1.0.0/sou...         NaN  NaN  NaN   \n",
       "5  /Volumes/lhab_raw/Nifti/v1.0.0/LHAB_v1.0.0/sou...          2D  NaN  NaN   \n",
       "\n",
       "  modality run scans session    subject  task   type  \n",
       "0     fmap   1   NaN     tp3  lhabX0146   NaN    dwi  \n",
       "2     anat   1   NaN     tp3  lhabX0013   NaN  FLAIR  \n",
       "3     fmap   1   NaN     tp5  lhabX0105   NaN   bold  \n",
       "4     func   1   NaN     tp5  lhabX0072  rest   bold  \n",
       "5     anat   1   NaN     tp5  lhabX0117   NaN  FLAIR  "
      ]
     },
     "execution_count": 5,
     "metadata": {},
     "output_type": "execute_result"
    }
   ],
   "source": [
    "mri_data.head()\n"
   ]
  },
  {
   "cell_type": "code",
   "execution_count": 5,
   "metadata": {
    "collapsed": false
   },
   "outputs": [],
   "source": [
    "mri_properties = ['subject', 'session', 'acquisition', 'modality', 'run', 'task', 'type']\n",
    "properties_unique = mri_data[mri_properties].copy()\n",
    "properties_unique.drop_duplicates(inplace=True)"
   ]
  },
  {
   "cell_type": "code",
   "execution_count": null,
   "metadata": {
    "collapsed": true
   },
   "outputs": [],
   "source": []
  },
  {
   "cell_type": "code",
   "execution_count": 6,
   "metadata": {
    "collapsed": false
   },
   "outputs": [],
   "source": [
    "for p in properties_unique.iterrows():\n",
    "    prop = p[1][mri_properties]\n",
    "    prop.dropna(inplace=True)\n",
    "    valid_props = prop.to_dict()\n",
    "    files_to_upload = [f.filename for f in layout.get(**valid_props)]\n",
    "    # now all files in files_to_upload can be uploaded with the valid_props"
   ]
  },
  {
   "cell_type": "code",
   "execution_count": 9,
   "metadata": {
    "collapsed": false
   },
   "outputs": [],
   "source": [
    "# you can query the files with layout.get(**valid_props)\n"
   ]
  }
 ],
 "metadata": {
  "anaconda-cloud": {},
  "kernelspec": {
   "display_name": "Python [default]",
   "language": "python",
   "name": "python3"
  },
  "language_info": {
   "codemirror_mode": {
    "name": "ipython",
    "version": 3
   },
   "file_extension": ".py",
   "mimetype": "text/x-python",
   "name": "python",
   "nbconvert_exporter": "python",
   "pygments_lexer": "ipython3",
   "version": "3.5.2"
  }
 },
 "nbformat": 4,
 "nbformat_minor": 2
}
